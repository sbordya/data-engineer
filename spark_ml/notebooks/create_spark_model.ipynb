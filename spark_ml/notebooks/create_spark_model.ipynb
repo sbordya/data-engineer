{
 "cells": [
  {
   "cell_type": "code",
   "execution_count": 1,
   "metadata": {},
   "outputs": [
    {
     "name": "stdout",
     "output_type": "stream",
     "text": [
      "Current spark version is 2.4.4\n"
     ]
    }
   ],
   "source": [
    "println(s\"Current spark version is ${spark.version}\")"
   ]
  },
  {
   "cell_type": "code",
   "execution_count": 2,
   "metadata": {},
   "outputs": [
    {
     "name": "stdout",
     "output_type": "stream",
     "text": [
      "+-----+------+\n",
      "|label| count|\n",
      "+-----+------+\n",
      "|    1|800000|\n",
      "|    0|800000|\n",
      "+-----+------+\n",
      "\n"
     ]
    },
    {
     "data": {
      "text/plain": [
       "dataSchema = StructType(StructField(target,IntegerType,true), StructField(id,LongType,true), StructField(raw_timestamp,StringType,true), StructField(query_status,StringType,true), StructField(author,StringType,true), StructField(tweet,StringType,true))\n",
       "dataPath = /home/jovyan/data/training.1600000.processed.noemoticon.csv\n",
       "raw_sentiment = [label: int, tweet: string]\n"
      ]
     },
     "metadata": {},
     "output_type": "display_data",
     "source": "user"
    },
    {
     "data": {
      "text/plain": [
       "[label: int, tweet: string]"
      ]
     },
     "execution_count": 2,
     "metadata": {},
     "output_type": "execute_result"
    }
   ],
   "source": [
    "import org.apache.spark.sql.types.{StructType, StructField, IntegerType, LongType, StringType}\n",
    "\n",
    "val dataSchema = new StructType()\n",
    "    .add(\"target\", IntegerType)\n",
    "    .add(\"id\", LongType)\n",
    "    .add(\"raw_timestamp\", StringType)\n",
    "    .add(\"query_status\", StringType)\n",
    "    .add(\"author\", StringType)\n",
    "    .add(\"tweet\", StringType)\n",
    "\n",
    "val dataPath= \"/home/jovyan/data/training.1600000.processed.noemoticon.csv\"\n",
    "\n",
    "val raw_sentiment = spark.read\n",
    "    .format(\"csv\")\n",
    "    .option(\"header\",false)\n",
    "    .schema(dataSchema)\n",
    "    .load(dataPath)\n",
    "    .selectExpr(\"(case when target=4 then 1 else 0 end) as label\",\"tweet\")\n",
    "\n",
    "raw_sentiment.groupBy($\"label\").count.show"
   ]
  },
  {
   "cell_type": "code",
   "execution_count": 3,
   "metadata": {},
   "outputs": [
    {
     "data": {
      "text/plain": [
       "tokenizer = tok_fb51cbf28df6\n",
       "hashingTF = hashingTF_04515dafe771\n",
       "labelIndexer = strIdx_d8c1b4c2d287\n",
       "featureIndexer = vecIdx_c15cf1d312ff\n",
       "rf = rfc_42b417cbdceb\n",
       "labelConverter = idxToStr_f6cf56d11ed3\n"
      ]
     },
     "metadata": {},
     "output_type": "display_data",
     "source": "user"
    },
    {
     "data": {
      "text/plain": [
       "...\n"
      ]
     },
     "metadata": {},
     "output_type": "display_data",
     "source": "user"
    },
    {
     "data": {
      "text/plain": [
       "idxToStr_f6cf56d11ed3"
      ]
     },
     "execution_count": 3,
     "metadata": {},
     "output_type": "execute_result"
    }
   ],
   "source": [
    "import org.apache.spark.ml.{Pipeline, PipelineModel}\n",
    "import org.apache.spark.ml.classification.{RandomForestClassificationModel, RandomForestClassifier}\n",
    "import org.apache.spark.ml.feature.{HashingTF, Tokenizer, IndexToString, StringIndexer, VectorIndexer}\n",
    "import org.apache.spark.ml.linalg.Vector\n",
    "import org.apache.spark.sql.Row\n",
    "\n",
    "val tokenizer = new Tokenizer()\n",
    "    .setInputCol(\"tweet\")\n",
    "    .setOutputCol(\"words\")\n",
    "//    .fit(raw_sentiment)\n",
    "\n",
    "val hashingTF = new HashingTF()\n",
    "    .setNumFeatures(1000)\n",
    "    .setInputCol(tokenizer.getOutputCol)\n",
    "    .setOutputCol(\"features\")\n",
    "//    .fit(raw_sentiment)\n",
    "\n",
    "// Index labels, adding metadata to the label column.\n",
    "// Fit on whole dataset to include all labels in index.\n",
    "val labelIndexer = new StringIndexer()\n",
    "    .setInputCol(\"label\")\n",
    "    .setOutputCol(\"indexedLabel\")\n",
    "    .fit(raw_sentiment)\n",
    "\n",
    "// Automatically identify categorical features, and index them.\n",
    "// Set maxCategories so features with > 4 distinct values are treated as continuous.\n",
    "val featureIndexer = new VectorIndexer()\n",
    "    .setInputCol(hashingTF.getOutputCol)\n",
    "    .setOutputCol(\"indexedFeatures\")\n",
    "    .setMaxCategories(4)\n",
    "//    .fit(raw_sentiment)\n",
    "\n",
    "// Train a RandomForest model.\n",
    "val rf = new RandomForestClassifier()\n",
    "    .setLabelCol(labelIndexer.getOutputCol)\n",
    "    .setFeaturesCol(featureIndexer.getOutputCol)\n",
    "    .setNumTrees(10)\n",
    "\n",
    "// Convert indexed labels back to original labels.\n",
    "val labelConverter = new IndexToString()\n",
    "    .setInputCol(\"prediction\")\n",
    "    .setOutputCol(\"predictedLabel\")\n",
    "    .setLabels(labelIndexer.labels)\n",
    "\n",
    "// Chain indexers and forest in a Pipeline.\n",
    "val pipeline = new Pipeline()\n",
    "      .setStages(Array(tokenizer, hashingTF, labelIndexer, featureIndexer, rf, labelConverter))"
   ]
  },
  {
   "cell_type": "code",
   "execution_count": 4,
   "metadata": {},
   "outputs": [
    {
     "data": {
      "text/plain": [
       "model = pipeline_fafabf1551e4\n"
      ]
     },
     "metadata": {},
     "output_type": "display_data",
     "source": "user"
    },
    {
     "data": {
      "text/plain": [
       "pipeline_fafabf1551e4"
      ]
     },
     "execution_count": 4,
     "metadata": {},
     "output_type": "execute_result"
    }
   ],
   "source": [
    "val model = pipeline.fit(raw_sentiment)"
   ]
  },
  {
   "cell_type": "code",
   "execution_count": 5,
   "metadata": {},
   "outputs": [],
   "source": [
    "model.write.overwrite().save(\"/home/jovyan/models/spark-ml-model\")"
   ]
  },
  {
   "cell_type": "code",
   "execution_count": 6,
   "metadata": {},
   "outputs": [
    {
     "data": {
      "text/plain": [
       "sameModel = pipeline_fafabf1551e4\n"
      ]
     },
     "metadata": {},
     "output_type": "display_data",
     "source": "user"
    },
    {
     "data": {
      "text/plain": [
       "pipeline_fafabf1551e4"
      ]
     },
     "execution_count": 6,
     "metadata": {},
     "output_type": "execute_result"
    }
   ],
   "source": [
    "val sameModel = PipelineModel.load(\"/home/jovyan/models/spark-ml-model\")"
   ]
  },
  {
   "cell_type": "code",
   "execution_count": 7,
   "metadata": {
    "scrolled": true
   },
   "outputs": [
    {
     "name": "stdout",
     "output_type": "stream",
     "text": [
      "+-----+--------------------+--------------------+--------------------+------------+--------------------+--------------------+--------------------+----------+--------------+\n",
      "|label|               tweet|               words|            features|indexedLabel|     indexedFeatures|       rawPrediction|         probability|prediction|predictedLabel|\n",
      "+-----+--------------------+--------------------+--------------------+------------+--------------------+--------------------+--------------------+----------+--------------+\n",
      "|    0|@switchfoot http:...|[@switchfoot, htt...|(1000,[7,14,21,54...|         0.0|(1000,[7,14,21,54...|[4.43320269021225...|[0.44332026902122...|       1.0|             1|\n",
      "|    0|is upset that he ...|[is, upset, that,...|(1000,[170,193,22...|         0.0|(1000,[170,193,22...|[5.05946061480078...|[0.50594606148007...|       0.0|             0|\n",
      "|    0|@Kenichan I dived...|[@kenichan, i, di...|(1000,[10,36,77,1...|         0.0|(1000,[10,36,77,1...|[5.31862574694048...|[0.53186257469404...|       0.0|             0|\n",
      "|    0|my whole body fee...|[my, whole, body,...|(1000,[82,191,296...|         0.0|(1000,[82,191,296...|[5.50243443145728...|[0.55024344314572...|       0.0|             0|\n",
      "|    0|@nationwideclass ...|[@nationwideclass...|(1000,[18,96,130,...|         0.0|(1000,[18,96,130,...|[5.14801357338087...|[0.51480135733808...|       0.0|             0|\n",
      "|    0|@Kwesidei not the...|[@kwesidei, not, ...|(1000,[18,223,710...|         0.0|(1000,[18,223,710...|[4.88982479801018...|[0.48898247980101...|       1.0|             1|\n",
      "|    0|         Need a hug |      [need, a, hug]|(1000,[48,170,537...|         0.0|(1000,[48,170,537...|[5.00893719856309...|[0.50089371985630...|       0.0|             0|\n",
      "|    0|@LOLTrish hey  lo...|[@loltrish, hey, ...|(1000,[139,157,17...|         0.0|(1000,[139,157,17...|[4.73730043060584...|[0.47373004306058...|       1.0|             1|\n",
      "|    0|@Tatiana_K nope t...|[@tatiana_k, nope...|(1000,[48,234,299...|         0.0|(1000,[48,234,299...|[4.88982479801018...|[0.48898247980101...|       1.0|             1|\n",
      "|    0|@twittera que me ...|[@twittera, que, ...|(1000,[161,324,47...|         0.0|(1000,[161,324,47...|[4.95335248946722...|[0.49533524894672...|       1.0|             1|\n",
      "|    0|spring break in p...|[spring, break, i...|(1000,[13,193,301...|         0.0|(1000,[13,193,301...|[4.88982479801018...|[0.48898247980101...|       1.0|             1|\n",
      "|    0|I just re-pierced...|[i, just, re-pier...|(1000,[307,329,47...|         0.0|(1000,[307,329,47...|[5.50243443145728...|[0.55024344314572...|       0.0|             0|\n",
      "|    0|@caregiving I cou...|[@caregiving, i, ...|(1000,[56,202,234...|         0.0|(1000,[56,202,234...|[5.09282132064059...|[0.50928213206405...|       0.0|             0|\n",
      "|    0|@octolinz16 It it...|[@octolinz16, it,...|(1000,[126,230,32...|         0.0|(1000,[126,230,32...|[4.30177322020665...|[0.43017732202066...|       1.0|             1|\n",
      "|    0|@smarrison i woul...|[@smarrison, i, w...|(1000,[18,83,170,...|         0.0|(1000,[18,83,170,...|[5.25202026426488...|[0.52520202642648...|       0.0|             0|\n",
      "|    0|@iamjazzyfizzle I...|[@iamjazzyfizzle,...|(1000,[7,71,202,2...|         0.0|(1000,[7,71,202,2...|[4.80612311373489...|[0.48061231137348...|       1.0|             1|\n",
      "|    0|Hollis' death sce...|[hollis', death, ...|(1000,[2,3,18,82,...|         0.0|(1000,[2,3,18,82,...|[4.95335248946722...|[0.49533524894672...|       1.0|             1|\n",
      "|    0|about to file taxes |[about, to, file,...|(1000,[108,388,48...|         0.0|(1000,[108,388,48...|[4.88982479801018...|[0.48898247980101...|       1.0|             1|\n",
      "|    0|@LettyA ahh ive a...|[@lettya, ahh, iv...|(1000,[13,107,201...|         0.0|(1000,[13,107,201...|[4.66165138876979...|[0.46616513887697...|       1.0|             1|\n",
      "|    0|@FakerPattyPattz ...|[@fakerpattypattz...|(1000,[53,102,154...|        0.0|(1000,[53,102,154...|[4.56387338414890...|[0.45638733841489...|       1.0|             1|\n",
      "+-----+--------------------+--------------------+--------------------+------------+--------------------+--------------------+--------------------+----------+--------------+\n",
      "only showing top 20 rows\n",
      "\n"
     ]
    },
    {
     "data": {
      "text/plain": [
       "predictionsDF = [label: int, tweet: string ... 8 more fields]\n"
      ]
     },
     "metadata": {},
     "output_type": "display_data",
     "source": "user"
    },
    {
     "data": {
      "text/plain": [
       "[label: int, tweet: string ... 8 more fields]"
      ]
     },
     "execution_count": 7,
     "metadata": {},
     "output_type": "execute_result"
    }
   ],
   "source": [
    "val predictionsDF = sameModel.transform(raw_sentiment)\n",
    "\n",
    "predictionsDF.show()"
   ]
  },
  {
   "cell_type": "code",
   "execution_count": 8,
   "metadata": {},
   "outputs": [
    {
     "name": "stdout",
     "output_type": "stream",
     "text": [
      "root\n",
      " |-- label: integer (nullable = false)\n",
      " |-- tweet: string (nullable = true)\n",
      " |-- words: array (nullable = true)\n",
      " |    |-- element: string (containsNull = true)\n",
      " |-- features: vector (nullable = true)\n",
      " |-- indexedLabel: double (nullable = false)\n",
      " |-- indexedFeatures: vector (nullable = true)\n",
      " |-- rawPrediction: vector (nullable = true)\n",
      " |-- probability: vector (nullable = true)\n",
      " |-- prediction: double (nullable = false)\n",
      " |-- predictedLabel: string (nullable = true)\n",
      "\n"
     ]
    }
   ],
   "source": [
    "// predictionsDF.schema\n",
    "// predictionsDF.describe()\n",
    "// predictionsDF.stat\n",
    "predictionsDF.printSchema()"
   ]
  },
  {
   "cell_type": "code",
   "execution_count": 12,
   "metadata": {},
   "outputs": [
    {
     "data": {
      "text/plain": [
       "getProbability = UserDefinedFunction(<function1>,DoubleType,Some(List(org.apache.spark.ml.linalg.VectorUDT@3bfc3ba7)))\n"
      ]
     },
     "metadata": {},
     "output_type": "display_data",
     "source": "user"
    },
    {
     "data": {
      "text/plain": [
       "UserDefinedFunction(<function1>,DoubleType,Some(List(org.apache.spark.ml.linalg.VectorUDT@3bfc3ba7)))"
      ]
     },
     "execution_count": 12,
     "metadata": {},
     "output_type": "execute_result"
    }
   ],
   "source": [
    "import org.apache.spark.sql.functions._\n",
    "\n",
    "val getProbability = udf((prediction: org.apache.spark.ml.linalg.Vector) => prediction(1))"
   ]
  },
  {
   "cell_type": "code",
   "execution_count": 13,
   "metadata": {},
   "outputs": [
    {
     "name": "stdout",
     "output_type": "stream",
     "text": [
      "+-------------------+\n",
      "|  clean_probability|\n",
      "+-------------------+\n",
      "| 0.5566797309787749|\n",
      "|0.49405393851992124|\n",
      "|0.46813742530595104|\n",
      "|0.44975655685427124|\n",
      "|0.48519864266191276|\n",
      "| 0.5110175201989817|\n",
      "| 0.4991062801436906|\n",
      "| 0.5262699569394153|\n",
      "| 0.5110175201989817|\n",
      "| 0.5046647510532778|\n",
      "| 0.5110175201989817|\n",
      "|0.44975655685427124|\n",
      "| 0.4907178679359401|\n",
      "| 0.5698226779793351|\n",
      "| 0.4747979735735111|\n",
      "| 0.5193876886265103|\n",
      "| 0.5046647510532778|\n",
      "| 0.5110175201989817|\n",
      "| 0.5338348611230203|\n",
      "| 0.5436126615851099|\n",
      "+-------------------+\n",
      "only showing top 20 rows\n",
      "\n"
     ]
    }
   ],
   "source": [
    "predictionsDF.select(getProbability($\"probability\").alias(\"clean_probability\")).show"
   ]
  },
  {
   "cell_type": "code",
   "execution_count": null,
   "metadata": {},
   "outputs": [],
   "source": []
  },
  {
   "cell_type": "code",
   "execution_count": null,
   "metadata": {},
   "outputs": [],
   "source": []
  }
 ],
 "metadata": {
  "kernelspec": {
   "display_name": "Apache Toree - Scala",
   "language": "scala",
   "name": "apache_toree_scala"
  },
  "language_info": {
   "codemirror_mode": "text/x-scala",
   "file_extension": ".scala",
   "mimetype": "text/x-scala",
   "name": "scala",
   "pygments_lexer": "scala",
   "version": "2.11.12"
  }
 },
 "nbformat": 4,
 "nbformat_minor": 4
}
