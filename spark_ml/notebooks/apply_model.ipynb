{
 "cells": [
  {
   "cell_type": "code",
   "execution_count": 1,
   "metadata": {},
   "outputs": [],
   "source": [
    "import org.apache.spark.sql.types.{StructType, StringType}\n",
    "import org.apache.spark.ml.{Pipeline, PipelineModel}\n",
    "import org.apache.spark.sql.functions._\n",
    "import org.apache.spark.sql.DataFrame"
   ]
  },
  {
   "cell_type": "code",
   "execution_count": 2,
   "metadata": {},
   "outputs": [
    {
     "name": "stdout",
     "output_type": "stream",
     "text": [
      "Current spark version is 2.4.4\n"
     ]
    }
   ],
   "source": [
    "println(s\"Current spark version is ${spark.version}\")"
   ]
  },
  {
   "cell_type": "code",
   "execution_count": 3,
   "metadata": {},
   "outputs": [
    {
     "data": {
      "text/plain": [
       "inputStreamPath = /home/jovyan/data/events-stream\n",
       "modelPath = /home/jovyan/models/spark-ml-model\n",
       "dataSchema = StructType(StructField(tweet,StringType,true))\n",
       "inputDF = [tweet: string]\n"
      ]
     },
     "metadata": {},
     "output_type": "display_data",
     "source": "user"
    },
    {
     "data": {
      "text/plain": [
       "[tweet: string]"
      ]
     },
     "execution_count": 3,
     "metadata": {},
     "output_type": "execute_result"
    }
   ],
   "source": [
    "val inputStreamPath = \"/home/jovyan/data/events-stream\"\n",
    "val modelPath = \"/home/jovyan/models/spark-ml-model\"\n",
    "\n",
    "val dataSchema = new StructType()\n",
    "    .add(\"tweet\", StringType)\n",
    "\n",
    "val inputDF = spark\n",
    "    .readStream\n",
    "    .schema(dataSchema)\n",
    "    .option(\"maxFilesPerTrigger\", 1)\n",
    "    .json(inputStreamPath)"
   ]
  },
  {
   "cell_type": "code",
   "execution_count": 4,
   "metadata": {},
   "outputs": [
    {
     "data": {
      "text/plain": [
       "getProbability = UserDefinedFunction(<function1>,DoubleType,Some(List(org.apache.spark.ml.linalg.VectorUDT@3bfc3ba7)))\n",
       "model = pipeline_fafabf1551e4\n",
       "predictionsDF = [tweet: string, prediction: double ... 1 more field]\n"
      ]
     },
     "metadata": {},
     "output_type": "display_data",
     "source": "user"
    },
    {
     "data": {
      "text/plain": [
       "[tweet: string, prediction: double ... 1 more field]"
      ]
     },
     "execution_count": 4,
     "metadata": {},
     "output_type": "execute_result"
    }
   ],
   "source": [
    "import org.apache.spark.sql.functions._\n",
    "\n",
    "val getProbability = udf((prediction: org.apache.spark.ml.linalg.Vector) => prediction(1))\n",
    "val model = PipelineModel.load(modelPath)\n",
    "\n",
    "val predictionsDF = model\n",
    "    .transform(inputDF)\n",
    "    .select($\"tweet\",\n",
    "            $\"prediction\",\n",
    "            getProbability($\"probability\").alias(\"clean_probability\"))"
   ]
  },
  {
   "cell_type": "code",
   "execution_count": 5,
   "metadata": {},
   "outputs": [
    {
     "data": {
      "text/plain": [
       "org.apache.spark.sql.execution.streaming.StreamingQueryWrapper@2824a763"
      ]
     },
     "execution_count": 5,
     "metadata": {},
     "output_type": "execute_result"
    },
    {
     "name": "stdout",
     "output_type": "stream",
     "text": [
      "-------------------------------------------\n",
      "Batch: 0\n",
      "-------------------------------------------+--------------------+----------+-------------------+\n",
      "|               tweet|prediction|  clean_probability|\n",
      "+--------------------+----------+-------------------+\n",
      "|@TheCavalry I'm a...|       0.0|0.48957323034707867|\n",
      "|painful, emotiona...|       0.0| 0.4690013796734148|\n",
      "|Saddened by the A...|       1.0| 0.5110175201989817|\n",
      "|I really really w...|       0.0| 0.4237319079443053|\n",
      "|Misses his dance ...|       1.0| 0.5110175201989817|\n",
      "|doesn't know how ...|       1.0| 0.5110175201989817|\n",
      "|HAPPY FATHERS DAY...|       1.0| 0.5316863485936643|\n",
      "|hmmm...coffee bea...|       1.0| 0.5298811809059409|\n",
      "|at the pool...fee...|       0.0|0.48064878380281967|\n",
      "|Sunny canals in A...|       1.0| 0.5110175201989817|\n",
      "|@karaoconnell And...|       1.0| 0.5014850350429527|\n",
      "|whers the sun gon...|       1.0|  0.514524088806193|\n",
      "|@patricknorton my...|       0.0| 0.4287369027863586|\n",
      "|loved the day of ...|       1.0| 0.5240179502417175|\n",
      "|My dress billows ...|       0.0|0.44975655685427124|\n",
      "|@missjuiciij than...|       1.0| 0.5634096680332895|\n",
      "+--------------------+----------+-------------------+\n"
     ]
    }
   ],
   "source": [
    "predictionsDF\n",
    "    .writeStream\n",
    "    .outputMode(\"append\")\n",
    "    .format(\"console\")\n",
    "    .start()"
   ]
  },
  {
   "cell_type": "code",
   "execution_count": null,
   "metadata": {},
   "outputs": [],
   "source": []
  }
 ],
 "metadata": {
  "kernelspec": {
   "display_name": "Apache Toree - Scala",
   "language": "scala",
   "name": "apache_toree_scala"
  },
  "language_info": {
   "codemirror_mode": "text/x-scala",
   "file_extension": ".scala",
   "mimetype": "text/x-scala",
   "name": "scala",
   "pygments_lexer": "scala",
   "version": "2.11.12"
  }
 },
 "nbformat": 4,
 "nbformat_minor": 4
}
